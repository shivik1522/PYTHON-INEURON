{
 "cells": [
  {
   "cell_type": "markdown",
   "metadata": {},
   "source": [
    "# PYTHON PROGRAM BASIC"
   ]
  },
  {
   "cell_type": "markdown",
   "metadata": {},
   "source": [
    "ASSIGNMENT 4"
   ]
  },
  {
   "cell_type": "code",
   "execution_count": 1,
   "metadata": {},
   "outputs": [
    {
     "name": "stdout",
     "output_type": "stream",
     "text": [
      "Enter the number 5\n",
      "The fatorial of 5 is  120\n"
     ]
    }
   ],
   "source": [
    "#1 factorial of a number\n",
    "\n",
    "num = int(input(\"Enter the number \")) #user input\n",
    "fac = 1\n",
    "for i in range(1,num+1):\n",
    "    fac = fac * i  #factors getting multiplicated\n",
    "print(\"The fatorial of {} is \".format(num) , fac)\n",
    "    "
   ]
  },
  {
   "cell_type": "code",
   "execution_count": 2,
   "metadata": {},
   "outputs": [
    {
     "name": "stdout",
     "output_type": "stream",
     "text": [
      "Enter the number you  want to print table of :9\n",
      "Table of 9 is\n",
      "9  *  1   =  9\n",
      "9  *  2   =  18\n",
      "9  *  3   =  27\n",
      "9  *  4   =  36\n",
      "9  *  5   =  45\n",
      "9  *  6   =  54\n",
      "9  *  7   =  63\n",
      "9  *  8   =  72\n",
      "9  *  9   =  81\n",
      "9  *  10   =  90\n"
     ]
    }
   ],
   "source": [
    "#2 display multiplication table\n",
    "\n",
    "tof = int(input(\"Enter the number you  want to print table of :\")) #user input\n",
    "print(\"Table of {} is\".format(tof))\n",
    "for i in range(1 , 11):\n",
    "    value = tof * i #table value calculated\n",
    "    print(\"{}  *  {}   =  {}\".format(tof , i , value))\n",
    "    "
   ]
  },
  {
   "cell_type": "code",
   "execution_count": 3,
   "metadata": {},
   "outputs": [
    {
     "name": "stdout",
     "output_type": "stream",
     "text": [
      "Enter the limit : 10\n",
      "0\n",
      "1\n",
      "1\n",
      "2\n",
      "3\n",
      "5\n",
      "8\n",
      "13\n",
      "21\n",
      "34\n",
      "55\n",
      "89\n",
      "144\n"
     ]
    }
   ],
   "source": [
    "#3 fibonaaci sequence\n",
    "\n",
    "lim = int(input(\"Enter the limit : \"))\n",
    "a = 0\n",
    "b = 1\n",
    "print(a)\n",
    "print(b)\n",
    "for i in range(lim + 1):\n",
    "    c = a + b\n",
    "    print (c)\n",
    "    a = b\n",
    "    b = c"
   ]
  },
  {
   "cell_type": "code",
   "execution_count": 30,
   "metadata": {},
   "outputs": [
    {
     "name": "stdout",
     "output_type": "stream",
     "text": [
      "Enter the number : 407\n",
      "407 is an armstrong number\n"
     ]
    }
   ],
   "source": [
    "#4 armstrong no:\n",
    "\n",
    "num = int(input(\"Enter the number : \")) #user input\n",
    "arm = num #duplicate created of number for future's work\n",
    "sum  = 0 \n",
    "order = len(str(num))\n",
    "while arm >  0:\n",
    "    x = arm % 10 #last digit of num extracted // arm , x = divmod(arm,10)\n",
    "    cube = x ** order #cube of digit\n",
    "    sum = sum + cube\n",
    "    arm = arm // 10 #digit removed from number whose's work was done\n",
    "if sum == num:\n",
    "    print(\"{} is an armstrong number\".format(num))\n",
    "else:\n",
    "    print(\"{} is not an armstrong number\".format(num))"
   ]
  },
  {
   "cell_type": "code",
   "execution_count": 31,
   "metadata": {},
   "outputs": [
    {
     "name": "stdout",
     "output_type": "stream",
     "text": [
      "Enter lower range: 1000\n",
      "Enter upper range: 9999\n",
      "The armstrong numbers are: \n",
      "1634\n",
      "8208\n",
      "9474\n"
     ]
    }
   ],
   "source": [
    "#5 armstrong number in interval\n",
    "\n",
    "#Accept lower and upper bound of range from user\n",
    "lower = int(input(\"Enter lower range: \")) \n",
    "upper = int(input(\"Enter upper range: \"))\n",
    "print(\"The armstrong numbers are: \")    \n",
    "\n",
    "#Calculates number of digits \n",
    "for number in range(lower, upper + 1):\n",
    "    order = len(str(number))\n",
    "    #Computes sum of nth power   \n",
    "    sum_pow = 0\n",
    "\n",
    "    temp = number\n",
    "    while temp > 0:\n",
    "        temp,digit = divmod(temp,10)\n",
    "        sum_pow += digit ** order\n",
    "    # Checks if number is equal to \n",
    "    # the sum of nth power of its digits       \n",
    "    if number == sum_pow:\n",
    "        print(number)\n"
   ]
  },
  {
   "cell_type": "code",
   "execution_count": 32,
   "metadata": {},
   "outputs": [
    {
     "name": "stdout",
     "output_type": "stream",
     "text": [
      "Enter the limit of natural number sum: 1000\n",
      "500500\n"
     ]
    }
   ],
   "source": [
    "#6 sum of natural numbers\n",
    "\n",
    "#Accept limit to find the sum\n",
    "\n",
    "num = int(input(\"Enter the limit of natural number sum: \"))\n",
    "\n",
    "#print sum of n natural no.s using formula\n",
    "print((num*(num+1))//2)"
   ]
  }
 ],
 "metadata": {
  "kernelspec": {
   "display_name": "Python 3",
   "language": "python",
   "name": "python3"
  },
  "language_info": {
   "codemirror_mode": {
    "name": "ipython",
    "version": 3
   },
   "file_extension": ".py",
   "mimetype": "text/x-python",
   "name": "python",
   "nbconvert_exporter": "python",
   "pygments_lexer": "ipython3",
   "version": "3.8.5"
  }
 },
 "nbformat": 4,
 "nbformat_minor": 4
}
