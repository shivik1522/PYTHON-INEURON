{
 "cells": [
  {
   "cell_type": "markdown",
   "metadata": {},
   "source": [
    "# PYTHON PROGRAMMING BASIC"
   ]
  },
  {
   "cell_type": "markdown",
   "metadata": {},
   "source": [
    "ASSIGNMENT 5"
   ]
  },
  {
   "cell_type": "code",
   "execution_count": 5,
   "metadata": {},
   "outputs": [
    {
     "name": "stdout",
     "output_type": "stream",
     "text": [
      "Enter 1st number: 15\n",
      "Enter 2nd number: 17\n",
      "The L.C.M of 15 and 17 are : 255\n"
     ]
    }
   ],
   "source": [
    "#to find LCM of numbers\n",
    "\n",
    "#accepting values\n",
    "num1  = int(input(\"Enter 1st number: \")) \n",
    "num2  = int(input(\"Enter 2nd number: \"))\n",
    "if num1 > num2:\n",
    "    big = num1\n",
    "else:\n",
    "    big = num2\n",
    "#checking factors\n",
    "while(True):\n",
    "    if ((big % num1 == 0) and (big % num2 == 0)):\n",
    "        lcm = big\n",
    "        break\n",
    "    big += 1\n",
    "print(\"The L.C.M of {} and {} are :\".format(num1,num2) , lcm)\n"
   ]
  },
  {
   "cell_type": "code",
   "execution_count": 6,
   "metadata": {},
   "outputs": [
    {
     "name": "stdout",
     "output_type": "stream",
     "text": [
      "Enter first number: 24\n",
      "Enter second number: 54\n",
      "The H.C.F. of 24 and 54 is 6\n"
     ]
    }
   ],
   "source": [
    "#to find hcf of numbers\n",
    "#function to return hcf\n",
    "def hcf(x, y): \n",
    "    if x > y:\n",
    "        smaller = y \n",
    "    else:  \n",
    "        smaller = x  \n",
    "    for i in range(1,smaller + 1):  \n",
    "        if((x % i == 0) and (y % i == 0)):  \n",
    "            hcf = i  \n",
    "    return hcf  \n",
    "\n",
    " #accepting values \n",
    "num1 = int(input(\"Enter first number: \"))  \n",
    "num2 = int(input(\"Enter second number: \"))  \n",
    "print(\"The H.C.F. of\", num1,\"and\", num2,\"is\", hcf(num1, num2))  "
   ]
  },
  {
   "cell_type": "code",
   "execution_count": 8,
   "metadata": {},
   "outputs": [
    {
     "name": "stdout",
     "output_type": "stream",
     "text": [
      "Enter a decimal number: 25\n",
      "0b11001 in binary.\n",
      "0o31 in octal.\n",
      "0x19 in hexadecimal.\n"
     ]
    }
   ],
   "source": [
    "#3 Program to Convert Decimal to Binary, Octal and Hexadecimal\n",
    "#accept decimal number\n",
    "dec = int(input(\"Enter a decimal number: \"))  \n",
    "  \n",
    "print(bin(dec),\"in binary.\")  \n",
    "print(oct(dec),\"in octal.\")  \n",
    "print(hex(dec),\"in hexadecimal.\" ) "
   ]
  },
  {
   "cell_type": "code",
   "execution_count": 9,
   "metadata": {},
   "outputs": [
    {
     "name": "stdout",
     "output_type": "stream",
     "text": [
      "Enter a character: a\n",
      "The ASCII value of 'a' is 97\n"
     ]
    }
   ],
   "source": [
    "#4 to print ascii value of a character\n",
    "\n",
    "c = input(\"Enter a character: \")  \n",
    "  \n",
    "print(\"The ASCII value of '\" + c + \"' is\",ord(c))  "
   ]
  },
  {
   "cell_type": "code",
   "execution_count": 14,
   "metadata": {},
   "outputs": [
    {
     "name": "stdout",
     "output_type": "stream",
     "text": [
      "Select operation:\n",
      "1: Addition \n",
      "2:Subtraction \n",
      "3: Multiplication\n",
      "4: Division\n",
      "Enter choice(1/2/3/4):4\n",
      "Enter first number: 30\n",
      "Enter second number: 3\n",
      "Division is : 10\n"
     ]
    }
   ],
   "source": [
    "#5 to Make a Simple Calculator with 4 basic mathematical operations\n",
    "\n",
    "# to compute addition\n",
    "def add(a , b):\n",
    "    s = a+b\n",
    "    return s\n",
    "\n",
    "#to compute subtraction  \n",
    "def sub( a , b):\n",
    "    d = a-b\n",
    "    return d\n",
    "\n",
    "# to compute multiplication\n",
    "def mul(a , b):\n",
    "    m = a*b\n",
    "    return m\n",
    "\n",
    "#to compute division\n",
    "def div( a, b):\n",
    "    d = a//b\n",
    "    return d\n",
    "\n",
    "#driver program\n",
    "#take input from the user\n",
    "\n",
    "print(\"Select operation:\")\n",
    "print(\"1: Addition \")\n",
    "print(\"2:Subtraction \")\n",
    "print(\"3: Multiplication\")\n",
    "print(\"4: Division\")\n",
    "\n",
    "#take choice from user\n",
    "\n",
    "choice = input(\"Enter choice(1/2/3/4):\")  \n",
    "  \n",
    "num1 = int(input(\"Enter first number: \"))  \n",
    "num2 = int(input(\"Enter second number: \"))  \n",
    "\n",
    "if choice == '1':\n",
    "    print(\"Summation is : \" , add(num1 , num2))\n",
    "elif choice == '2':\n",
    "    print(\"Difference is: \" , sub(num1 , num2))\n",
    "elif choice == '3':\n",
    "    print(\"Multiplication is:\" , mul(num1 , num2))\n",
    "elif choice == '4':\n",
    "    print(\"Division is :\" , div(num1 , num2))\n",
    "else:\n",
    "    print(\"Invalid Choice\")"
   ]
  }
 ],
 "metadata": {
  "kernelspec": {
   "display_name": "Python 3",
   "language": "python",
   "name": "python3"
  },
  "language_info": {
   "codemirror_mode": {
    "name": "ipython",
    "version": 3
   },
   "file_extension": ".py",
   "mimetype": "text/x-python",
   "name": "python",
   "nbconvert_exporter": "python",
   "pygments_lexer": "ipython3",
   "version": "3.8.5"
  }
 },
 "nbformat": 4,
 "nbformat_minor": 4
}
