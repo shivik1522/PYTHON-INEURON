{
 "cells": [
  {
   "cell_type": "markdown",
   "metadata": {},
   "source": [
    "# PYTHON PROGRAMMING BASIC"
   ]
  },
  {
   "cell_type": "markdown",
   "metadata": {},
   "source": [
    "ASSIGNMENT 2"
   ]
  },
  {
   "cell_type": "code",
   "execution_count": 6,
   "metadata": {},
   "outputs": [
    {
     "name": "stdout",
     "output_type": "stream",
     "text": [
      "Enter the distance in km 2\n",
      "1.24\n"
     ]
    }
   ],
   "source": [
    "#1 KM->MILES\n",
    "\n",
    "km = int(input(\"Enter the distance in km \"))\n",
    "print(km * 0.62)"
   ]
  },
  {
   "cell_type": "code",
   "execution_count": 8,
   "metadata": {},
   "outputs": [
    {
     "name": "stdout",
     "output_type": "stream",
     "text": [
      "Enter the temp in celsius 32\n",
      "89.6\n"
     ]
    }
   ],
   "source": [
    "#2 CELSIUS-FARENHEIT\n",
    "\n",
    "cel = int(input(\"Enter the temp in celsius \"))\n",
    "far = ((9/5)*cel)+32 #formula for conversion\n",
    "print(far)"
   ]
  },
  {
   "cell_type": "code",
   "execution_count": 9,
   "metadata": {},
   "outputs": [
    {
     "name": "stdout",
     "output_type": "stream",
     "text": [
      "Enter the year 2021\n",
      "Enter the month 02\n",
      "   February 2021\n",
      "Mo Tu We Th Fr Sa Su\n",
      " 1  2  3  4  5  6  7\n",
      " 8  9 10 11 12 13 14\n",
      "15 16 17 18 19 20 21\n",
      "22 23 24 25 26 27 28\n",
      "\n"
     ]
    }
   ],
   "source": [
    "#3 display calendar\n",
    "\n",
    "import calendar\n",
    "year = int(input(\"Enter the year \"))\n",
    "month = int(input(\"Enter the month \"))\n",
    "print(calendar.month(year,month))"
   ]
  },
  {
   "cell_type": "code",
   "execution_count": 13,
   "metadata": {},
   "outputs": [
    {
     "name": "stdout",
     "output_type": "stream",
     "text": [
      "Enter a: 4\n",
      "Enter b: 6\n",
      "Enter c: 9\n",
      "The solution are (-6+1.299038105676658j) and (-6-1.299038105676658j)\n"
     ]
    }
   ],
   "source": [
    "#4 solve quadratic equation\n",
    "import cmath\n",
    "a = int(input(\"Enter a: \"))\n",
    "b = int(input(\"Enter b: \"))\n",
    "c = int(input(\"Enter c: \"))\n",
    "if a>0:\n",
    "    d = (b**2)-(4*a*c) #finding determinant\n",
    "    ans1 = -b+cmath.sqrt(d)/(2*a)\n",
    "    ans2 = -b-cmath.sqrt(d)/(2*a)\n",
    "    print('The solution are {0} and {1}'.format(ans1,ans2))   \n",
    "else:\n",
    "    print(\"Quadratic quation cannot be solved\")"
   ]
  },
  {
   "cell_type": "code",
   "execution_count": 15,
   "metadata": {},
   "outputs": [
    {
     "name": "stdout",
     "output_type": "stream",
     "text": [
      "The swapped values are : a=30,b20\n"
     ]
    }
   ],
   "source": [
    "#5 swapping without temp\n",
    "\n",
    "a  = 20\n",
    "b  = 30\n",
    "\n",
    "a = a^b\n",
    "b = a^b\n",
    "a = a^b\n",
    "print(\"The swapped values are : a={},b{}\".format(a,b))"
   ]
  }
 ],
 "metadata": {
  "kernelspec": {
   "display_name": "Python 3",
   "language": "python",
   "name": "python3"
  },
  "language_info": {
   "codemirror_mode": {
    "name": "ipython",
    "version": 3
   },
   "file_extension": ".py",
   "mimetype": "text/x-python",
   "name": "python",
   "nbconvert_exporter": "python",
   "pygments_lexer": "ipython3",
   "version": "3.8.5"
  }
 },
 "nbformat": 4,
 "nbformat_minor": 4
}
